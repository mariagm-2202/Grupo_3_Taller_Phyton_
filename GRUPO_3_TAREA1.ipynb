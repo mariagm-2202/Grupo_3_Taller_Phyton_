{
  "cells": [
    {
      "cell_type": "markdown",
      "metadata": {
        "id": "vr2QtTFbNJTT"
      },
      "source": [
        "# Tarea 1"
      ]
    },
    {
      "cell_type": "markdown",
      "metadata": {
        "id": "TlW8VZi66BVs"
      },
      "source": [
        "\n",
        "\n",
        "```\n",
        "# Esto tiene formato de código\n",
        "```\n",
        "\n",
        "I. Utilizando un “if else” cree una estructura que evalúe “x” tal que:\n",
        "Si x es múltiplo de 2 imprima “Es múltiplo de 2”.\n",
        "Si x es múltiplo de 3 imprima “Es múltiplo de 3”\n",
        "Si x es múltiplo de 2 y 3 imprima “Es múltiplo de 2 y 3”\n",
        "Para otro caso, imprime “Otro caso”\n",
        "Muestra un ejemplo con x = 6."
      ]
    },
    {
      "cell_type": "code",
      "execution_count": null,
      "metadata": {
        "colab": {
          "base_uri": "https://localhost:8080/"
        },
        "id": "FZfyWTuxo_2H",
        "outputId": "96788d56-8851-4d69-a1a5-78e447a42c47"
      },
      "outputs": [
        {
          "name": "stdout",
          "output_type": "stream",
          "text": [
            "Es multiplo de 2 y 3\n"
          ]
        }
      ],
      "source": [
        "#ejemplo\n",
        "x = 6\n",
        "\n",
        "if (x % 2 == 0) and (x % 3 == 0):\n",
        "  print(\"Es multiplo de 2 y 3\")\n",
        "\n",
        "elif x % 2 == 0:\n",
        " print(\"Es multiplo de 2\")\n",
        "\n",
        "elif x % 3 == 0:\n",
        " print(\"Es multiplo de 3\")\n",
        "\n",
        "else:\n",
        "  print(\"Otro caso\")\n",
        "\n"
      ]
    },
    {
      "cell_type": "markdown",
      "metadata": {
        "id": "QIOugRccAElA"
      },
      "source": [
        "II. Utilizando un “for loop” y el condicional “if else” para un rango del 1 al 100, evalúe “x”\n",
        "tal que: Si x es múltiplo de 3 imprima “Fizz”\n",
        "Si x es múltiplo de 5 imprima “Buzz”\n",
        "Si x es múltiplo de 3 y 5 imprima “FizzBuzz”\n",
        "Para el resto de los casos, solo imprima el número.\n"
      ]
    },
    {
      "cell_type": "code",
      "execution_count": null,
      "metadata": {
        "colab": {
          "background_save": true,
          "base_uri": "https://localhost:8080/"
        },
        "id": "Ov91pr2HL3F0",
        "outputId": "c9b4ee1c-6693-4eed-d860-a11eec08d84c"
      },
      "outputs": [
        {
          "name": "stdout",
          "output_type": "stream",
          "text": [
            "range(1, 101)\n"
          ]
        }
      ],
      "source": [
        "x = (range(1, 101))\n",
        "print (x)"
      ]
    },
    {
      "cell_type": "code",
      "execution_count": null,
      "metadata": {
        "colab": {
          "background_save": true,
          "base_uri": "https://localhost:8080/"
        },
        "id": "5omzo2uZFtK8",
        "outputId": "cc4f1c1c-0a41-49f2-e162-a30be9547ce7"
      },
      "outputs": [
        {
          "name": "stdout",
          "output_type": "stream",
          "text": [
            "range(1, 101)\n",
            "1\n",
            "2\n",
            "Fizz\n",
            "4\n",
            "Buzz\n",
            "Fizz\n",
            "7\n",
            "8\n",
            "Fizz\n",
            "Buzz\n",
            "11\n",
            "Fizz\n",
            "13\n",
            "14\n",
            "FizzBuzz\n",
            "16\n",
            "17\n",
            "Fizz\n",
            "19\n",
            "Buzz\n",
            "Fizz\n",
            "22\n",
            "23\n",
            "Fizz\n",
            "Buzz\n",
            "26\n",
            "Fizz\n",
            "28\n",
            "29\n",
            "FizzBuzz\n",
            "31\n",
            "32\n",
            "Fizz\n",
            "34\n",
            "Buzz\n",
            "Fizz\n",
            "37\n",
            "38\n",
            "Fizz\n",
            "Buzz\n",
            "41\n",
            "Fizz\n",
            "43\n",
            "44\n",
            "FizzBuzz\n",
            "46\n",
            "47\n",
            "Fizz\n",
            "49\n",
            "Buzz\n",
            "Fizz\n",
            "52\n",
            "53\n",
            "Fizz\n",
            "Buzz\n",
            "56\n",
            "Fizz\n",
            "58\n",
            "59\n",
            "FizzBuzz\n",
            "61\n",
            "62\n",
            "Fizz\n",
            "64\n",
            "Buzz\n",
            "Fizz\n",
            "67\n",
            "68\n",
            "Fizz\n",
            "Buzz\n",
            "71\n",
            "Fizz\n",
            "73\n",
            "74\n",
            "FizzBuzz\n",
            "76\n",
            "77\n",
            "Fizz\n",
            "79\n",
            "Buzz\n",
            "Fizz\n",
            "82\n",
            "83\n",
            "Fizz\n",
            "Buzz\n",
            "86\n",
            "Fizz\n",
            "88\n",
            "89\n",
            "FizzBuzz\n",
            "91\n",
            "92\n",
            "Fizz\n",
            "94\n",
            "Buzz\n",
            "Fizz\n",
            "97\n",
            "98\n",
            "Fizz\n",
            "Buzz\n"
          ]
        }
      ],
      "source": [
        "lista_x = x\n",
        "print (lista_x)\n",
        "\n",
        "for x in lista_x:\n",
        "  if (x % 3 == 0) and (x % 5 == 0):\n",
        "    print(\"FizzBuzz\")\n",
        "\n",
        "  elif (x % 3 == 0):\n",
        "    print(\"Fizz\")\n",
        "\n",
        "  elif (x % 5 == 0):\n",
        "    print(\"Buzz\")\n",
        "\n",
        "  else:\n",
        "    print(x)"
      ]
    },
    {
      "cell_type": "markdown",
      "metadata": {
        "id": "cMO2KV1wMpsM"
      },
      "source": [
        "III. Crea una función 𝒄𝒂𝒍𝒄𝒖𝒍𝒂𝒓_𝒅𝒆𝒔𝒄𝒖𝒆𝒏𝒕𝒐() que permita calcular el descuento aplicado a un\n",
        "producto. Si el total es mayor o igual a 1000, aplica un 20% de descuento, si el total es\n",
        "mayor o igual a 500 pero menor a 1000, aplica un 10% de descuento. Si el total es menor\n",
        "a 500, no aplica ningún descuento. La función debe devolver el total final después de\n",
        "aplicar el descuento. Prueba la función con un total de compra de 1200, 750 y 300."
      ]
    },
    {
      "cell_type": "code",
      "execution_count": null,
      "metadata": {
        "colab": {
          "base_uri": "https://localhost:8080/"
        },
        "id": "ZmsGVeIzMrb5",
        "outputId": "4ed69600-755e-4276-ebe1-ce7dbc3a5e91"
      },
      "outputs": [
        {
          "name": "stdout",
          "output_type": "stream",
          "text": [
            "Total después de descuento para 1200:  960.0 soles\n",
            "Total después de descuento para 750:  675.0 soles\n",
            "Total después de descuento para 300:  300 soles\n"
          ]
        }
      ],
      "source": [
        "def calcular_descuento(total):\n",
        "  if total >= 1000:\n",
        "    descuento = total * 0.20\n",
        "  elif total >= 500:\n",
        "    descuento = total * 0.10\n",
        "  else:\n",
        "    descuento = 0\n",
        "\n",
        "  total_final = total - descuento\n",
        "  return total_final\n",
        "\n",
        "#piden con total de compra: 1200, 750 y 300\n",
        "total_1200 = calcular_descuento(1200)\n",
        "total_750 = calcular_descuento(750)\n",
        "total_300 = calcular_descuento(300)\n",
        "\n",
        "print(\"Total después de descuento para 1200: \", total_1200, \"soles\")\n",
        "print(\"Total después de descuento para 750: \", total_750, \"soles\")\n",
        "print(\"Total después de descuento para 300: \", total_300, \"soles\")"
      ]
    },
    {
      "cell_type": "markdown",
      "metadata": {
        "id": "sOH_OeyaMth4"
      },
      "source": [
        "IV. Crea una función llamada 𝒄𝒍𝒂𝒔𝒊𝒇𝒊𝒄𝒂𝒓_𝒆𝒅𝒂𝒅() que\n",
        "\n",
        "---\n",
        "\n",
        "reciba como parámetro la edad de una\n",
        "\n",
        "---\n",
        "\n",
        "\n",
        "\n",
        "---\n",
        "\n",
        "\n",
        "persona. La función debe clasificar a la persona en una de las siguientes categorías:\n",
        "\"Niño\" si la edad es menor de 12 años.\n",
        "\"Adolescente\" si la edad está entre 12 y 17 años.\n",
        "“Joven” si la edad está entre 18 y 24 años.\n",
        "\"Adulto\" si la edad está entre 25 y 64 años.\n",
        "\"Adulto Mayor\" si la edad es mayor o igual a 65 años.\n",
        "La función debe devolver la categoría correspondiente. Prueba la función con las\n",
        "edades de 10, 19, 25 y 70.\n"
      ]
    },
    {
      "cell_type": "code",
      "execution_count": null,
      "metadata": {
        "id": "leudIpclMxtN"
      },
      "outputs": [],
      "source": [
        "def clasificar_edad(edad):\n",
        "  if edad <12:\n",
        "    clasificación= \"Niño\"\n",
        "  elif edad>=12 and edad<=17:\n",
        "    clasificación= \"Adolescente\"\n",
        "  elif edad>=18 and edad<=24:\n",
        "    clasificación= \"Joven\"\n",
        "  elif edad>=15 and edad<=64:\n",
        "    clasificación= \"Adulto\"\n",
        "  else:\n",
        "    clasificación= \"Adulto Mayor\"\n",
        "\n",
        "  return clasificación\n"
      ]
    },
    {
      "cell_type": "code",
      "execution_count": null,
      "metadata": {
        "colab": {
          "base_uri": "https://localhost:8080/",
          "height": 36
        },
        "id": "L9I2x_fRUpY0",
        "outputId": "f3d9a094-bd87-4737-d9f5-5807f3ab0523"
      },
      "outputs": [
        {
          "data": {
            "application/vnd.google.colaboratory.intrinsic+json": {
              "type": "string"
            },
            "text/plain": [
              "'Niño'"
            ]
          },
          "execution_count": 13,
          "metadata": {},
          "output_type": "execute_result"
        }
      ],
      "source": [
        "clasificar_edad(10)"
      ]
    },
    {
      "cell_type": "code",
      "execution_count": null,
      "metadata": {
        "colab": {
          "base_uri": "https://localhost:8080/",
          "height": 36
        },
        "id": "lHM8d7KBVc4f",
        "outputId": "38b1ec8a-1d85-4740-9574-f044fa596c89"
      },
      "outputs": [
        {
          "data": {
            "application/vnd.google.colaboratory.intrinsic+json": {
              "type": "string"
            },
            "text/plain": [
              "'Joven'"
            ]
          },
          "execution_count": 14,
          "metadata": {},
          "output_type": "execute_result"
        }
      ],
      "source": [
        "clasificar_edad(19)"
      ]
    },
    {
      "cell_type": "code",
      "execution_count": null,
      "metadata": {
        "colab": {
          "base_uri": "https://localhost:8080/",
          "height": 36
        },
        "id": "3OzTK195Veqh",
        "outputId": "03efe2fd-d8a6-4516-80e2-796586ca509f"
      },
      "outputs": [
        {
          "data": {
            "application/vnd.google.colaboratory.intrinsic+json": {
              "type": "string"
            },
            "text/plain": [
              "'Adulto'"
            ]
          },
          "execution_count": 15,
          "metadata": {},
          "output_type": "execute_result"
        }
      ],
      "source": [
        "clasificar_edad(25)"
      ]
    },
    {
      "cell_type": "code",
      "execution_count": null,
      "metadata": {
        "colab": {
          "base_uri": "https://localhost:8080/",
          "height": 36
        },
        "id": "kbecjV_DVhCc",
        "outputId": "1baa2cda-6458-482d-8c07-5376b4c1dae5"
      },
      "outputs": [
        {
          "data": {
            "application/vnd.google.colaboratory.intrinsic+json": {
              "type": "string"
            },
            "text/plain": [
              "'Adulto Mayor'"
            ]
          },
          "execution_count": 16,
          "metadata": {},
          "output_type": "execute_result"
        }
      ],
      "source": [
        "clasificar_edad(70)"
      ]
    },
    {
      "cell_type": "markdown",
      "metadata": {
        "id": "-IRFc5pZMyRn"
      },
      "source": [
        "\n",
        "\n",
        "```\n",
        "# Esto tiene formato de código\n",
        "```\n",
        "\n",
        "V. Sea la fórmula del CRAEST PUCP\n",
        "𝑪𝑹𝑨𝑬𝑺𝑻 = ((𝑴𝒆𝒅𝒊𝒂 𝒑𝒆𝒓𝒔𝒐𝒏𝒂𝒍 – 𝒎𝒆𝒅𝒊𝒂 𝒅𝒆𝒍 𝒄𝒖𝒓𝒔𝒐)∗𝟏𝟎)/𝑫𝒆𝒔𝒗𝒊𝒂𝒄𝒊ó𝒏 𝒆𝒔𝒕á𝒏𝒅𝒂𝒓 𝒅𝒆𝒍 𝒄𝒖𝒓𝒔𝒐 + 𝟓𝟎\n",
        "Crea una función 𝒄𝒂𝒍𝒄𝒖𝒍𝒂𝒓_𝒄𝒓𝒂𝒆𝒔𝒕(𝒎𝒆𝒅𝒊𝒂_𝒑𝒆𝒓𝒔𝒐𝒏𝒂𝒍,𝒎𝒆𝒅𝒊𝒂_𝒄𝒖𝒓𝒔𝒐,𝒅𝒆𝒔𝒗𝒊𝒂𝒄𝒊𝒐𝒏_𝒄𝒖𝒓𝒔𝒐) que reciba como tres únicos inputs tu media, la media del curso y la desviación estándar del curso y te devuelva tu craest calculado. No te olvides documentar la función usando triple comillas “””.\n",
        "Prueba la función los datos de algún curso que hayas llevado.\n"
      ]
    },
    {
      "cell_type": "code",
      "execution_count": null,
      "metadata": {
        "id": "_EpkrM2MM8AY"
      },
      "outputs": [],
      "source": [
        "def calcular_craest(media_personal,media_curso,desviacion_curso):\n",
        "  \"\"\"\n",
        "  Objetivo:\n",
        "        - Calcular el craest de una persona\n",
        "  Imput:\n",
        "        - media personal\n",
        "        - media del curso\n",
        "        - desviación del curso\n",
        "    Output:\n",
        "        - craest\n",
        "  \"\"\"\n",
        "  formula_craest= ((media_personal - media_curso)*10)/desviacion_curso + 50\n",
        "  return formula_craest"
      ]
    },
    {
      "cell_type": "markdown",
      "metadata": {
        "id": "h-07lMNPidLu"
      },
      "source": [
        ".... objetivo: sacar craest\n",
        "input:\n",
        "   -media personal\n",
        "   -media curso\n",
        "   -desviacion_curso\n",
        "output:\n",
        "   - calcular_craest"
      ]
    },
    {
      "cell_type": "code",
      "source": [
        "# ejemplo de uso\n",
        "media_personal = 16.5\n",
        "media_curso = 14.0\n",
        "desviacion_curso = 2.5\n",
        "\n",
        "resultado = calcular_craest(media_personal,media_curso,desviacion_curso)\n",
        "\n",
        "print(f\"EL CRAEST calculado es {resultado}\")\n"
      ],
      "metadata": {
        "colab": {
          "base_uri": "https://localhost:8080/"
        },
        "id": "GmPvnFdiqEQ_",
        "outputId": "6e6119c9-015b-4b05-a482-a7f46df8f860"
      },
      "execution_count": null,
      "outputs": [
        {
          "output_type": "stream",
          "name": "stdout",
          "text": [
            "EL CRAEST calculado es 60.0\n"
          ]
        }
      ]
    },
    {
      "cell_type": "markdown",
      "metadata": {
        "id": "-CNV7Qo8NGd0"
      },
      "source": []
    }
  ],
  "metadata": {
    "colab": {
      "provenance": []
    },
    "kernelspec": {
      "display_name": "Python 3",
      "name": "python3"
    },
    "language_info": {
      "name": "python"
    }
  },
  "nbformat": 4,
  "nbformat_minor": 0
}